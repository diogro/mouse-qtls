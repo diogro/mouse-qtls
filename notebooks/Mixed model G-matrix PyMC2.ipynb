{
 "cells": [
  {
   "cell_type": "code",
   "execution_count": 1,
   "metadata": {
    "collapsed": false,
    "scrolled": true
   },
   "outputs": [
    {
     "name": "stderr",
     "output_type": "stream",
     "text": [
      "/home/diogro/bin/anaconda3/envs/pymc2/lib/python2.7/site-packages/matplotlib/font_manager.py:273: UserWarning: Matplotlib is building the font cache using fc-list. This may take a moment.\n",
      "  warnings.warn('Matplotlib is building the font cache using fc-list. This may take a moment.')\n"
     ]
    }
   ],
   "source": [
    "%matplotlib inline\n",
    "import matplotlib.pyplot as plt\n",
    "import numpy as np\n",
    "import pymc as pm \n",
    "import pandas as pd\n",
    "\n",
    "data = pd.read_csv('data/area_full.csv')\n",
    "\n",
    "family_names = data.FAMILY.unique()\n",
    "\n",
    "n_families = len(data.FAMILY.unique())\n",
    "family_key = data['FAMILY'].unique()\n",
    "num_traits = 7"
   ]
  },
  {
   "cell_type": "code",
   "execution_count": 2,
   "metadata": {
    "collapsed": false
   },
   "outputs": [
    {
     "data": {
      "text/html": [
       "<div>\n",
       "<table border=\"1\" class=\"dataframe\">\n",
       "  <thead>\n",
       "    <tr style=\"text-align: right;\">\n",
       "      <th></th>\n",
       "      <th>area1</th>\n",
       "      <th>area2</th>\n",
       "      <th>area3</th>\n",
       "      <th>area4</th>\n",
       "      <th>area5</th>\n",
       "      <th>area6</th>\n",
       "      <th>area7</th>\n",
       "    </tr>\n",
       "  </thead>\n",
       "  <tbody>\n",
       "    <tr>\n",
       "      <th>area1</th>\n",
       "      <td>0.006748</td>\n",
       "      <td>0.007186</td>\n",
       "      <td>0.006133</td>\n",
       "      <td>0.015449</td>\n",
       "      <td>0.011020</td>\n",
       "      <td>0.001550</td>\n",
       "      <td>0.008112</td>\n",
       "    </tr>\n",
       "    <tr>\n",
       "      <th>area2</th>\n",
       "      <td>0.007186</td>\n",
       "      <td>0.180478</td>\n",
       "      <td>0.045377</td>\n",
       "      <td>0.096293</td>\n",
       "      <td>0.093743</td>\n",
       "      <td>0.017461</td>\n",
       "      <td>0.051372</td>\n",
       "    </tr>\n",
       "    <tr>\n",
       "      <th>area3</th>\n",
       "      <td>0.006133</td>\n",
       "      <td>0.045377</td>\n",
       "      <td>0.101442</td>\n",
       "      <td>0.128771</td>\n",
       "      <td>0.082016</td>\n",
       "      <td>0.015696</td>\n",
       "      <td>0.041880</td>\n",
       "    </tr>\n",
       "    <tr>\n",
       "      <th>area4</th>\n",
       "      <td>0.015449</td>\n",
       "      <td>0.096293</td>\n",
       "      <td>0.128771</td>\n",
       "      <td>0.318022</td>\n",
       "      <td>0.182661</td>\n",
       "      <td>0.032203</td>\n",
       "      <td>0.102638</td>\n",
       "    </tr>\n",
       "    <tr>\n",
       "      <th>area5</th>\n",
       "      <td>0.011020</td>\n",
       "      <td>0.093743</td>\n",
       "      <td>0.082016</td>\n",
       "      <td>0.182661</td>\n",
       "      <td>0.196226</td>\n",
       "      <td>0.027516</td>\n",
       "      <td>0.075415</td>\n",
       "    </tr>\n",
       "    <tr>\n",
       "      <th>area6</th>\n",
       "      <td>0.001550</td>\n",
       "      <td>0.017461</td>\n",
       "      <td>0.015696</td>\n",
       "      <td>0.032203</td>\n",
       "      <td>0.027516</td>\n",
       "      <td>0.009765</td>\n",
       "      <td>0.013296</td>\n",
       "    </tr>\n",
       "    <tr>\n",
       "      <th>area7</th>\n",
       "      <td>0.008112</td>\n",
       "      <td>0.051372</td>\n",
       "      <td>0.041880</td>\n",
       "      <td>0.102638</td>\n",
       "      <td>0.075415</td>\n",
       "      <td>0.013296</td>\n",
       "      <td>0.075347</td>\n",
       "    </tr>\n",
       "  </tbody>\n",
       "</table>\n",
       "</div>"
      ],
      "text/plain": [
       "          area1     area2     area3     area4     area5     area6     area7\n",
       "area1  0.006748  0.007186  0.006133  0.015449  0.011020  0.001550  0.008112\n",
       "area2  0.007186  0.180478  0.045377  0.096293  0.093743  0.017461  0.051372\n",
       "area3  0.006133  0.045377  0.101442  0.128771  0.082016  0.015696  0.041880\n",
       "area4  0.015449  0.096293  0.128771  0.318022  0.182661  0.032203  0.102638\n",
       "area5  0.011020  0.093743  0.082016  0.182661  0.196226  0.027516  0.075415\n",
       "area6  0.001550  0.017461  0.015696  0.032203  0.027516  0.009765  0.013296\n",
       "area7  0.008112  0.051372  0.041880  0.102638  0.075415  0.013296  0.075347"
      ]
     },
     "execution_count": 2,
     "metadata": {},
     "output_type": "execute_result"
    }
   ],
   "source": [
    "family = family_key[2]\n",
    "family_data = np.array(data.filter(regex = 'area')).mean(axis = 0)\n",
    "data.filter(regex = 'area').cov() - data.groupby('FAMILY').mean().filter(regex = 'area').cov()"
   ]
  },
  {
   "cell_type": "code",
   "execution_count": 3,
   "metadata": {
    "collapsed": false
   },
   "outputs": [
    {
     "name": "stdout",
     "output_type": "stream",
     "text": [
      "Overwriting mixed_model.py\n"
     ]
    }
   ],
   "source": [
    "%%writefile mixed_model.py\n",
    "\n",
    "import matplotlib.pyplot as plt\n",
    "import numpy as np\n",
    "import pymc as pm \n",
    "import pandas as pd\n",
    "\n",
    "data = pd.read_csv('data/area_full.csv')\n",
    "\n",
    "family_names = data.FAMILY.unique()\n",
    "\n",
    "n_families = len(data.FAMILY.unique())\n",
    "family_key = data['FAMILY'].unique()\n",
    "num_traits = 7\n",
    "\n",
    "# Overall mean prior\n",
    "mu = pm.MvNormalCov(\"mu\", \n",
    "                    value=np.array(data.filter(regex = 'area')).mean(axis = 0),\n",
    "                    mu=np.zeros(num_traits),\n",
    "                    C=np.eye(num_traits)*100.)\n",
    "\n",
    "# Family means prior\n",
    "mu_f = pm.MvNormalCov(\"mu_f\", \n",
    "                      value=np.zeros(num_traits),\n",
    "                      mu=np.zeros(num_traits),\n",
    "                      C=np.eye(num_traits)*100.)\n",
    "\n",
    "# G matrix priors, covariance matrix of family means\n",
    "G = pm.WishartCov('G',\n",
    "                  value=data.groupby('FAMILY').mean().filter(regex = 'area').cov(),\n",
    "                  n=num_traits+1,\n",
    "                  C=np.eye(num_traits)*100.)\n",
    "\n",
    "# R matrix prior, residual within-family covariance\n",
    "R =  pm.WishartCov('R',\n",
    "                   value=data.filter(regex = 'area').cov() - data.groupby('FAMILY').mean().filter(regex = 'area').cov(),\n",
    "                   n=num_traits+1,\n",
    "                   C=np.eye(num_traits)*100.)\n",
    "\n",
    "betas = {}\n",
    "lik_families = {}\n",
    "\n",
    "for family in family_key:\n",
    "    \n",
    "    family_data = np.array(data[(data['FAMILY'] == family)].filter(regex = 'area'))\n",
    "    \n",
    "    betas[str(family)] = pm.MvNormalCov('betas_{}'.format(str(family)),\n",
    "                                        value = family_data.mean(axis = 0),\n",
    "                                        mu = mu + mu_f,\n",
    "                                        C = G)\n",
    "    \n",
    "    lik_families[str(family)] = pm.MvNormalCov('data_{}'.format(family),\n",
    "                                               mu = betas[str(family)],\n",
    "                                               C = R,\n",
    "                                               value = family_data,\n",
    "                                               observed = True)"
   ]
  },
  {
   "cell_type": "code",
   "execution_count": 4,
   "metadata": {
    "collapsed": false
   },
   "outputs": [],
   "source": [
    "import mixed_model"
   ]
  },
  {
   "cell_type": "code",
   "execution_count": 5,
   "metadata": {
    "collapsed": false
   },
   "outputs": [],
   "source": [
    "M = pm.MCMC(mixed_model)"
   ]
  },
  {
   "cell_type": "code",
   "execution_count": 6,
   "metadata": {
    "collapsed": false
   },
   "outputs": [
    {
     "data": {
      "text/plain": [
       "<pydot.Dot at 0x7fe280c5a490>"
      ]
     },
     "execution_count": 6,
     "metadata": {},
     "output_type": "execute_result"
    }
   ],
   "source": [
    "pm.graph.graph(M,format='png',path='',name='graph_mine',prog='dot')"
   ]
  },
  {
   "cell_type": "code",
   "execution_count": 9,
   "metadata": {
    "collapsed": false
   },
   "outputs": [
    {
     "name": "stdout",
     "output_type": "stream",
     "text": [
      " [-----------------100%-----------------] 2000 of 2000 complete in 266.1 sec"
     ]
    }
   ],
   "source": [
    "M.sample(iter=2000, burn=1000, thin=10, tune_interval= 100)"
   ]
  },
  {
   "cell_type": "code",
   "execution_count": 11,
   "metadata": {
    "collapsed": false
   },
   "outputs": [
    {
     "data": {
      "text/plain": [
       "array([[ 0.0125907 ,  0.01518758,  0.01416214,  0.03506518,  0.02588474,\n",
       "         0.00402081,  0.01932937],\n",
       "       [ 0.01518758,  0.33376542,  0.10527816,  0.17847253,  0.18340059,\n",
       "         0.03002586,  0.09987002],\n",
       "       [ 0.01416214,  0.10527816,  0.19578793,  0.25839871,  0.17935266,\n",
       "         0.02663308,  0.09487345],\n",
       "       [ 0.03506518,  0.17847253,  0.25839871,  0.64096127,  0.38626796,\n",
       "         0.05711341,  0.22546231],\n",
       "       [ 0.02588474,  0.18340059,  0.17935266,  0.38626796,  0.3890506 ,\n",
       "         0.04820086,  0.17678824],\n",
       "       [ 0.00402081,  0.03002586,  0.02663308,  0.05711341,  0.04820086,\n",
       "         0.01623454,  0.02727924],\n",
       "       [ 0.01932937,  0.09987002,  0.09487345,  0.22546231,  0.17678824,\n",
       "         0.02727924,  0.15219761]])"
      ]
     },
     "execution_count": 11,
     "metadata": {},
     "output_type": "execute_result"
    }
   ],
   "source": [
    "M.stats()['G']['quantiles'][50] + M.stats()['R']['quantiles'][50]"
   ]
  },
  {
   "cell_type": "code",
   "execution_count": 12,
   "metadata": {
    "collapsed": false
   },
   "outputs": [
    {
     "data": {
      "text/html": [
       "<div>\n",
       "<table border=\"1\" class=\"dataframe\">\n",
       "  <thead>\n",
       "    <tr style=\"text-align: right;\">\n",
       "      <th></th>\n",
       "      <th>area1</th>\n",
       "      <th>area2</th>\n",
       "      <th>area3</th>\n",
       "      <th>area4</th>\n",
       "      <th>area5</th>\n",
       "      <th>area6</th>\n",
       "      <th>area7</th>\n",
       "    </tr>\n",
       "  </thead>\n",
       "  <tbody>\n",
       "    <tr>\n",
       "      <th>area1</th>\n",
       "      <td>0.012330</td>\n",
       "      <td>0.014401</td>\n",
       "      <td>0.013364</td>\n",
       "      <td>0.036240</td>\n",
       "      <td>0.026189</td>\n",
       "      <td>0.004233</td>\n",
       "      <td>0.019496</td>\n",
       "    </tr>\n",
       "    <tr>\n",
       "      <th>area2</th>\n",
       "      <td>0.014401</td>\n",
       "      <td>0.327850</td>\n",
       "      <td>0.100443</td>\n",
       "      <td>0.185271</td>\n",
       "      <td>0.181952</td>\n",
       "      <td>0.030065</td>\n",
       "      <td>0.098529</td>\n",
       "    </tr>\n",
       "    <tr>\n",
       "      <th>area3</th>\n",
       "      <td>0.013364</td>\n",
       "      <td>0.100443</td>\n",
       "      <td>0.183614</td>\n",
       "      <td>0.252834</td>\n",
       "      <td>0.171213</td>\n",
       "      <td>0.026805</td>\n",
       "      <td>0.088257</td>\n",
       "    </tr>\n",
       "    <tr>\n",
       "      <th>area4</th>\n",
       "      <td>0.036240</td>\n",
       "      <td>0.185271</td>\n",
       "      <td>0.252834</td>\n",
       "      <td>0.637447</td>\n",
       "      <td>0.379336</td>\n",
       "      <td>0.058951</td>\n",
       "      <td>0.216603</td>\n",
       "    </tr>\n",
       "    <tr>\n",
       "      <th>area5</th>\n",
       "      <td>0.026189</td>\n",
       "      <td>0.181952</td>\n",
       "      <td>0.171213</td>\n",
       "      <td>0.379336</td>\n",
       "      <td>0.368628</td>\n",
       "      <td>0.047701</td>\n",
       "      <td>0.164382</td>\n",
       "    </tr>\n",
       "    <tr>\n",
       "      <th>area6</th>\n",
       "      <td>0.004233</td>\n",
       "      <td>0.030065</td>\n",
       "      <td>0.026805</td>\n",
       "      <td>0.058951</td>\n",
       "      <td>0.047701</td>\n",
       "      <td>0.015773</td>\n",
       "      <td>0.026595</td>\n",
       "    </tr>\n",
       "    <tr>\n",
       "      <th>area7</th>\n",
       "      <td>0.019496</td>\n",
       "      <td>0.098529</td>\n",
       "      <td>0.088257</td>\n",
       "      <td>0.216603</td>\n",
       "      <td>0.164382</td>\n",
       "      <td>0.026595</td>\n",
       "      <td>0.142579</td>\n",
       "    </tr>\n",
       "  </tbody>\n",
       "</table>\n",
       "</div>"
      ],
      "text/plain": [
       "          area1     area2     area3     area4     area5     area6     area7\n",
       "area1  0.012330  0.014401  0.013364  0.036240  0.026189  0.004233  0.019496\n",
       "area2  0.014401  0.327850  0.100443  0.185271  0.181952  0.030065  0.098529\n",
       "area3  0.013364  0.100443  0.183614  0.252834  0.171213  0.026805  0.088257\n",
       "area4  0.036240  0.185271  0.252834  0.637447  0.379336  0.058951  0.216603\n",
       "area5  0.026189  0.181952  0.171213  0.379336  0.368628  0.047701  0.164382\n",
       "area6  0.004233  0.030065  0.026805  0.058951  0.047701  0.015773  0.026595\n",
       "area7  0.019496  0.098529  0.088257  0.216603  0.164382  0.026595  0.142579"
      ]
     },
     "execution_count": 12,
     "metadata": {},
     "output_type": "execute_result"
    }
   ],
   "source": [
    "data.filter(regex = 'area').cov()"
   ]
  }
 ],
 "metadata": {
  "kernelspec": {
   "display_name": "Python 2",
   "language": "python",
   "name": "python2"
  },
  "language_info": {
   "codemirror_mode": {
    "name": "ipython",
    "version": 2
   },
   "file_extension": ".py",
   "mimetype": "text/x-python",
   "name": "python",
   "nbconvert_exporter": "python",
   "pygments_lexer": "ipython2",
   "version": "2.7.11"
  }
 },
 "nbformat": 4,
 "nbformat_minor": 0
}
