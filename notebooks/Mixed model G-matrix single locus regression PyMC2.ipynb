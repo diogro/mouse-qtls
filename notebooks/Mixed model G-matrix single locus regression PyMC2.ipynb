{
 "cells": [
  {
   "cell_type": "code",
   "execution_count": 1,
   "metadata": {
    "collapsed": false,
    "scrolled": true
   },
   "outputs": [
    {
     "name": "stderr",
     "output_type": "stream",
     "text": [
      "/home/diogro/bin/anaconda3/envs/pymc2/lib/python2.7/site-packages/matplotlib/font_manager.py:273: UserWarning: Matplotlib is building the font cache using fc-list. This may take a moment.\n",
      "  warnings.warn('Matplotlib is building the font cache using fc-list. This may take a moment.')\n"
     ]
    }
   ],
   "source": [
    "%matplotlib inline\n",
    "import matplotlib.pyplot as plt\n",
    "import numpy as np\n",
    "import pymc as pm \n",
    "import pandas as pd\n",
    "\n",
    "data = pd.read_csv('data/area_full.csv')\n",
    "\n",
    "family_names = data.FAMILY.unique()\n",
    "\n",
    "n_families = len(data.FAMILY.unique())\n",
    "family_key = data['FAMILY'].unique()\n",
    "num_traits = 7"
   ]
  },
  {
   "cell_type": "code",
   "execution_count": 2,
   "metadata": {
    "collapsed": false
   },
   "outputs": [
    {
     "data": {
      "text/html": [
       "<div>\n",
       "<table border=\"1\" class=\"dataframe\">\n",
       "  <thead>\n",
       "    <tr style=\"text-align: right;\">\n",
       "      <th></th>\n",
       "      <th>chrom4_A9</th>\n",
       "    </tr>\n",
       "  </thead>\n",
       "  <tbody>\n",
       "    <tr>\n",
       "      <th>18</th>\n",
       "      <td>0</td>\n",
       "    </tr>\n",
       "  </tbody>\n",
       "</table>\n",
       "</div>"
      ],
      "text/plain": [
       "    chrom4_A9\n",
       "18          0"
      ]
     },
     "execution_count": 2,
     "metadata": {},
     "output_type": "execute_result"
    }
   ],
   "source": [
    "family = family_key[2]\n",
    "family_data = data[(data['FAMILY'] == family)]\n",
    "ind_idx = family_data.ID.values\n",
    "ind = ind_idx[1]\n",
    "locus_number= 9\n",
    "family_data[family_data['ID'] == ind].filter(regex = 'chrom4_A{}'.format(str(locus_number)))"
   ]
  },
  {
   "cell_type": "code",
   "execution_count": 3,
   "metadata": {
    "collapsed": false
   },
   "outputs": [
    {
     "name": "stdout",
     "output_type": "stream",
     "text": [
      "Overwriting mixed_model.py\n"
     ]
    }
   ],
   "source": [
    "%%writefile mixed_model.py\n",
    "\n",
    "import matplotlib.pyplot as plt\n",
    "import numpy as np\n",
    "import pymc as pm \n",
    "import pandas as pd\n",
    "\n",
    "data = pd.read_csv('data/area_full.csv')\n",
    "\n",
    "family_names = data.FAMILY.unique()\n",
    "\n",
    "n_families = len(data.FAMILY.unique())\n",
    "family_key = data['FAMILY'].unique()\n",
    "num_traits = 7\n",
    "\n",
    "# Overall mean prior\n",
    "mu = pm.MvNormalCov(\"mu\", \n",
    "                    value=np.array(data.filter(regex = 'area')).mean(axis = 0),\n",
    "                    mu=np.zeros(num_traits),\n",
    "                    C=np.eye(num_traits)*100.)\n",
    "\n",
    "# Family means prior\n",
    "mu_f = pm.MvNormalCov(\"mu_f\", \n",
    "                      value=np.zeros(num_traits),\n",
    "                      mu=np.zeros(num_traits),\n",
    "                      C=np.eye(num_traits)*100.)\n",
    "\n",
    "# G matrix priors, covariance matrix of family means\n",
    "G = pm.WishartCov('G',\n",
    "                  value=data.groupby('FAMILY').mean().filter(regex = 'area').cov(),\n",
    "                  n=num_traits+1,\n",
    "                  C=np.eye(num_traits)*100.)\n",
    "\n",
    "# R matrix prior, residual within-family covariance\n",
    "R =  pm.WishartCov('R',\n",
    "                   value=data.filter(regex = 'area').cov() - data.groupby('FAMILY').mean().filter(regex = 'area').cov(),\n",
    "                   n=num_traits+1,\n",
    "                   C=np.eye(num_traits)*100.)\n",
    "\n",
    "locus_number = 9\n",
    "\n",
    "# Additive effect for single locus prior\n",
    "a = pm.MvNormalCov(\"a_{}\".format(str(locus_number)), \n",
    "                   value=np.zeros(num_traits),\n",
    "                   mu=np.zeros(num_traits),\n",
    "                   C=np.eye(num_traits)*100.)\n",
    "\n",
    "# Dominance effect for single locus prior\n",
    "d = pm.MvNormalCov(\"d_{}\".format(str(locus_number)), \n",
    "                   value=np.zeros(num_traits),\n",
    "                   mu=np.zeros(num_traits),\n",
    "                   C=np.eye(num_traits)*100.)\n",
    "\n",
    "betas = {}\n",
    "lik = {}\n",
    "\n",
    "for family in family_key:\n",
    "    \n",
    "    family_data = data[(data['FAMILY'] == family)]\n",
    "    family_array = np.array(data[(data['FAMILY'] == family)].filter(regex = 'area'))\n",
    "    \n",
    "    \n",
    "    betas[str(family)] = pm.MvNormalCov('betas_{}'.format(str(family)),\n",
    "                                        value = family_array.mean(axis = 0),\n",
    "                                        mu = mu_f,\n",
    "                                        C = G)\n",
    "    ind_idx = family_data.ID.values\n",
    "    \n",
    "    for ind in ind_idx:\n",
    "        genetic_effects = a * np.array(family_data[family_data['ID'] == ind].filter(regex = 'chrom4_A{}'.format(str(locus_number)))) + \\\n",
    "                          d * np.array(family_data[family_data['ID'] == ind].filter(regex = 'chrom4_D{}'.format(str(locus_number)))) \n",
    "        \n",
    "        ind_mean = mu + betas[str(family)] + genetic_effects\n",
    "        lik[str(ind)] = pm.MvNormalCov('data_{}'.format(ind),\n",
    "                                       mu = ind_mean,\n",
    "                                       C = R,\n",
    "                                       value = np.array(family_data[family_data['ID'] == ind].filter(regex = 'area')),\n",
    "                                       observed = True)"
   ]
  },
  {
   "cell_type": "code",
   "execution_count": 4,
   "metadata": {
    "collapsed": false
   },
   "outputs": [],
   "source": [
    "import mixed_model"
   ]
  },
  {
   "cell_type": "code",
   "execution_count": 5,
   "metadata": {
    "collapsed": false
   },
   "outputs": [],
   "source": [
    "M = pm.MCMC(mixed_model)"
   ]
  },
  {
   "cell_type": "code",
   "execution_count": 6,
   "metadata": {
    "collapsed": false
   },
   "outputs": [
    {
     "name": "stdout",
     "output_type": "stream",
     "text": [
      "dot: graph is too large for cairo-renderer bitmaps. Scaling by 0.0647501 to fit\n",
      "\n"
     ]
    },
    {
     "data": {
      "text/plain": [
       "<pydot.Dot at 0x7f017905fad0>"
      ]
     },
     "execution_count": 6,
     "metadata": {},
     "output_type": "execute_result"
    }
   ],
   "source": [
    "pm.graph.graph(M,format='png',path='',name='graph_mine',prog='dot')"
   ]
  },
  {
   "cell_type": "code",
   "execution_count": 7,
   "metadata": {
    "collapsed": false
   },
   "outputs": [
    {
     "name": "stdout",
     "output_type": "stream",
     "text": [
      " [-----------------100%-----------------] 8001 of 8000 complete in 4228.7 sec"
     ]
    }
   ],
   "source": [
    "M.sample(iter=8000, burn=3000, thin=10)"
   ]
  },
  {
   "cell_type": "code",
   "execution_count": 9,
   "metadata": {
    "collapsed": false
   },
   "outputs": [
    {
     "data": {
      "text/plain": [
       "array([[ 0.01232975,  0.01440133,  0.01336446,  0.03624032,  0.02618893,\n",
       "         0.004233  ,  0.01949594],\n",
       "       [ 0.01440133,  0.32785033,  0.10044304,  0.18527052,  0.18195184,\n",
       "         0.03006503,  0.09852918],\n",
       "       [ 0.01336446,  0.10044304,  0.18361409,  0.25283385,  0.1712131 ,\n",
       "         0.0268048 ,  0.08825747],\n",
       "       [ 0.03624032,  0.18527052,  0.25283385,  0.63744668,  0.37933567,\n",
       "         0.05895053,  0.21660326],\n",
       "       [ 0.02618893,  0.18195184,  0.1712131 ,  0.37933567,  0.368628  ,\n",
       "         0.04770059,  0.16438188],\n",
       "       [ 0.004233  ,  0.03006503,  0.0268048 ,  0.05895053,  0.04770059,\n",
       "         0.01577299,  0.02659537],\n",
       "       [ 0.01949594,  0.09852918,  0.08825747,  0.21660326,  0.16438188,\n",
       "         0.02659537,  0.14257872]])"
      ]
     },
     "execution_count": 9,
     "metadata": {},
     "output_type": "execute_result"
    }
   ],
   "source": [
    "M.stats()['G']['quantiles'][50] + M.stats()['R']['quantiles'][50]"
   ]
  },
  {
   "cell_type": "code",
   "execution_count": 10,
   "metadata": {
    "collapsed": false
   },
   "outputs": [
    {
     "data": {
      "text/html": [
       "<div>\n",
       "<table border=\"1\" class=\"dataframe\">\n",
       "  <thead>\n",
       "    <tr style=\"text-align: right;\">\n",
       "      <th></th>\n",
       "      <th>area1</th>\n",
       "      <th>area2</th>\n",
       "      <th>area3</th>\n",
       "      <th>area4</th>\n",
       "      <th>area5</th>\n",
       "      <th>area6</th>\n",
       "      <th>area7</th>\n",
       "    </tr>\n",
       "  </thead>\n",
       "  <tbody>\n",
       "    <tr>\n",
       "      <th>area1</th>\n",
       "      <td>0.012330</td>\n",
       "      <td>0.014401</td>\n",
       "      <td>0.013364</td>\n",
       "      <td>0.036240</td>\n",
       "      <td>0.026189</td>\n",
       "      <td>0.004233</td>\n",
       "      <td>0.019496</td>\n",
       "    </tr>\n",
       "    <tr>\n",
       "      <th>area2</th>\n",
       "      <td>0.014401</td>\n",
       "      <td>0.327850</td>\n",
       "      <td>0.100443</td>\n",
       "      <td>0.185271</td>\n",
       "      <td>0.181952</td>\n",
       "      <td>0.030065</td>\n",
       "      <td>0.098529</td>\n",
       "    </tr>\n",
       "    <tr>\n",
       "      <th>area3</th>\n",
       "      <td>0.013364</td>\n",
       "      <td>0.100443</td>\n",
       "      <td>0.183614</td>\n",
       "      <td>0.252834</td>\n",
       "      <td>0.171213</td>\n",
       "      <td>0.026805</td>\n",
       "      <td>0.088257</td>\n",
       "    </tr>\n",
       "    <tr>\n",
       "      <th>area4</th>\n",
       "      <td>0.036240</td>\n",
       "      <td>0.185271</td>\n",
       "      <td>0.252834</td>\n",
       "      <td>0.637447</td>\n",
       "      <td>0.379336</td>\n",
       "      <td>0.058951</td>\n",
       "      <td>0.216603</td>\n",
       "    </tr>\n",
       "    <tr>\n",
       "      <th>area5</th>\n",
       "      <td>0.026189</td>\n",
       "      <td>0.181952</td>\n",
       "      <td>0.171213</td>\n",
       "      <td>0.379336</td>\n",
       "      <td>0.368628</td>\n",
       "      <td>0.047701</td>\n",
       "      <td>0.164382</td>\n",
       "    </tr>\n",
       "    <tr>\n",
       "      <th>area6</th>\n",
       "      <td>0.004233</td>\n",
       "      <td>0.030065</td>\n",
       "      <td>0.026805</td>\n",
       "      <td>0.058951</td>\n",
       "      <td>0.047701</td>\n",
       "      <td>0.015773</td>\n",
       "      <td>0.026595</td>\n",
       "    </tr>\n",
       "    <tr>\n",
       "      <th>area7</th>\n",
       "      <td>0.019496</td>\n",
       "      <td>0.098529</td>\n",
       "      <td>0.088257</td>\n",
       "      <td>0.216603</td>\n",
       "      <td>0.164382</td>\n",
       "      <td>0.026595</td>\n",
       "      <td>0.142579</td>\n",
       "    </tr>\n",
       "  </tbody>\n",
       "</table>\n",
       "</div>"
      ],
      "text/plain": [
       "          area1     area2     area3     area4     area5     area6     area7\n",
       "area1  0.012330  0.014401  0.013364  0.036240  0.026189  0.004233  0.019496\n",
       "area2  0.014401  0.327850  0.100443  0.185271  0.181952  0.030065  0.098529\n",
       "area3  0.013364  0.100443  0.183614  0.252834  0.171213  0.026805  0.088257\n",
       "area4  0.036240  0.185271  0.252834  0.637447  0.379336  0.058951  0.216603\n",
       "area5  0.026189  0.181952  0.171213  0.379336  0.368628  0.047701  0.164382\n",
       "area6  0.004233  0.030065  0.026805  0.058951  0.047701  0.015773  0.026595\n",
       "area7  0.019496  0.098529  0.088257  0.216603  0.164382  0.026595  0.142579"
      ]
     },
     "execution_count": 10,
     "metadata": {},
     "output_type": "execute_result"
    }
   ],
   "source": [
    "data.filter(regex = 'area').cov()"
   ]
  },
  {
   "cell_type": "code",
   "execution_count": 14,
   "metadata": {
    "collapsed": false
   },
   "outputs": [
    {
     "data": {
      "text/plain": [
       "{'95% HPD interval': array([[-0.00182932,  0.03384261,  0.02732477,  0.00097962,  0.0305813 ,\n",
       "         -0.02008855,  0.03624411],\n",
       "        [ 0.01970349,  0.15268855,  0.12895834,  0.20861395,  0.1622912 ,\n",
       "          0.00324816,  0.11199223]]),\n",
       " 'mc error': array([ 0.00044434,  0.00309074,  0.00276566,  0.00542997,  0.00353643,\n",
       "         0.00054167,  0.00210745]),\n",
       " 'mean': array([ 0.00981704,  0.10643262,  0.09366685,  0.14099256,  0.11744161,\n",
       "        -0.00682014,  0.0836196 ]),\n",
       " 'n': 500,\n",
       " 'quantiles': {2.5: array([-0.00277622,  0.02734348,  0.02801898, -0.00243039,  0.03252197,\n",
       "         -0.0207932 ,  0.03324085]),\n",
       "  25: array([ 0.00708806,  0.09270426,  0.07866452,  0.11747454,  0.10144054,\n",
       "         -0.01028961,  0.07508356]),\n",
       "  50: array([ 0.01021143,  0.11520931,  0.10266603,  0.15998363,  0.12867685,\n",
       "         -0.00575688,  0.09065038]),\n",
       "  75: array([ 0.01330851,  0.12847491,  0.11218806,  0.17474476,  0.14091335,\n",
       "         -0.00254932,  0.09847557]),\n",
       "  97.5: array([ 0.01908154,  0.15102443,  0.13196378,  0.20665276,  0.16958287,\n",
       "          0.00302254,  0.10999851])},\n",
       " 'standard deviation': array([ 0.00517411,  0.0316948 ,  0.02821042,  0.05467604,  0.03594244,\n",
       "         0.00610398,  0.02167324])}"
      ]
     },
     "execution_count": 14,
     "metadata": {},
     "output_type": "execute_result"
    }
   ],
   "source": [
    "M.stats()['a_9']"
   ]
  }
 ],
 "metadata": {
  "kernelspec": {
   "display_name": "Python 2",
   "language": "python",
   "name": "python2"
  },
  "language_info": {
   "codemirror_mode": {
    "name": "ipython",
    "version": 2
   },
   "file_extension": ".py",
   "mimetype": "text/x-python",
   "name": "python",
   "nbconvert_exporter": "python",
   "pygments_lexer": "ipython2",
   "version": "2.7.11"
  }
 },
 "nbformat": 4,
 "nbformat_minor": 0
}
